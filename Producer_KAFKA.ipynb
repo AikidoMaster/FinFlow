{
  "cells": [
    {
      "cell_type": "markdown",
      "source": [
        "#Install Required Library"
      ],
      "metadata": {
        "id": "OsRrciv0ZaRl"
      },
      "id": "OsRrciv0ZaRl"
    },
    {
      "cell_type": "code",
      "execution_count": null,
      "id": "e2d3f594",
      "metadata": {
        "id": "e2d3f594"
      },
      "outputs": [],
      "source": [
        "pip install kafka-python"
      ]
    },
    {
      "cell_type": "markdown",
      "source": [
        "#Import Required Libraries"
      ],
      "metadata": {
        "id": "N8d0LqWpZcDL"
      },
      "id": "N8d0LqWpZcDL"
    },
    {
      "cell_type": "code",
      "execution_count": null,
      "id": "f19405f0",
      "metadata": {
        "id": "f19405f0"
      },
      "outputs": [],
      "source": [
        "import pandas as pd\n",
        "from kafka import KafkaProducer\n",
        "from time import sleep\n",
        "from json import dumps\n",
        "import json"
      ]
    },
    {
      "cell_type": "markdown",
      "source": [
        "#Configure Kafka Producer\n",
        "Here, a KafkaProducer instance is created with the following configurations:\n",
        "* Bootstrap servers: [':9092'] (Note: You need to add your IP address here)\n",
        "* Value serializer: A lambda function to encode messages as JSON and then to UTF-8"
      ],
      "metadata": {
        "id": "c0V9ZtKDZff9"
      },
      "id": "c0V9ZtKDZff9"
    },
    {
      "cell_type": "code",
      "execution_count": null,
      "id": "b483a0e4",
      "metadata": {
        "id": "b483a0e4"
      },
      "outputs": [],
      "source": [
        "producer = KafkaProducer(bootstrap_servers=[':9092'], #change ip here\n",
        "                         value_serializer=lambda x:\n",
        "                         dumps(x).encode('utf-8'))"
      ]
    },
    {
      "cell_type": "markdown",
      "source": [
        "#Send a Test Message"
      ],
      "metadata": {
        "id": "sU6t8BdBZpEL"
      },
      "id": "sU6t8BdBZpEL"
    },
    {
      "cell_type": "code",
      "execution_count": null,
      "id": "0c30b915",
      "metadata": {
        "id": "0c30b915"
      },
      "outputs": [],
      "source": [
        "producer.send('demo_test', value={'surnasdasdame':'parasdasdmar'})"
      ]
    },
    {
      "cell_type": "markdown",
      "source": [
        "#Load and Preview Data"
      ],
      "metadata": {
        "id": "4AR5A5XtZtUa"
      },
      "id": "4AR5A5XtZtUa"
    },
    {
      "cell_type": "code",
      "execution_count": null,
      "id": "cc8d45aa",
      "metadata": {
        "id": "cc8d45aa"
      },
      "outputs": [],
      "source": [
        "df = pd.read_csv(\"data/indexProcessed.csv\")"
      ]
    },
    {
      "cell_type": "code",
      "execution_count": null,
      "id": "113a2516",
      "metadata": {
        "id": "113a2516"
      },
      "outputs": [],
      "source": [
        "df.head()"
      ]
    },
    {
      "cell_type": "markdown",
      "source": [
        "#Continuously Send Data to Kafka\n",
        "This loop continuously sends data to Kafka:\n",
        "* It randomly samples one row from the DataFrame\n",
        "* Converts the sampled row to a dictionary\n",
        "* Sends the dictionary as a message to the 'demo_test' topic\n",
        "* Waits for 1 second before the next iteration"
      ],
      "metadata": {
        "id": "5d9cCuvpZ7MD"
      },
      "id": "5d9cCuvpZ7MD"
    },
    {
      "cell_type": "code",
      "execution_count": null,
      "id": "4c7ec0be",
      "metadata": {
        "id": "4c7ec0be"
      },
      "outputs": [],
      "source": [
        "while True:\n",
        "    dict_stock = df.sample(1).to_dict(orient=\"records\")[0]\n",
        "    producer.send('demo_test', value=dict_stock)\n",
        "    sleep(1)"
      ]
    },
    {
      "cell_type": "markdown",
      "source": [
        "#Flush the Producer"
      ],
      "metadata": {
        "id": "zcykpirHaIeS"
      },
      "id": "zcykpirHaIeS"
    },
    {
      "cell_type": "code",
      "execution_count": null,
      "id": "ed71c0e4",
      "metadata": {
        "id": "ed71c0e4"
      },
      "outputs": [],
      "source": [
        "producer.flush() #clear data from kafka server"
      ]
    },
    {
      "cell_type": "markdown",
      "source": [
        "#Message Batching:\n",
        "Kafka producers can batch messages for better throughput. You can configure this using the batch_size and linger_ms parameters:"
      ],
      "metadata": {
        "id": "NU62Fn2LaJ67"
      },
      "id": "NU62Fn2LaJ67"
    },
    {
      "cell_type": "code",
      "execution_count": null,
      "id": "5991d10f",
      "metadata": {
        "id": "5991d10f"
      },
      "outputs": [],
      "source": [
        "producer = KafkaProducer(\n",
        "    bootstrap_servers=[':9092'],\n",
        "    value_serializer=lambda x: dumps(x).encode('utf-8'),\n",
        "    batch_size=16384,\n",
        "    linger_ms=100\n",
        ")"
      ]
    },
    {
      "cell_type": "markdown",
      "source": [
        "#Message Compression:\n",
        "You can enable compression to reduce network bandwidth usage:"
      ],
      "metadata": {
        "id": "ZhFLJpxcaX-u"
      },
      "id": "ZhFLJpxcaX-u"
    },
    {
      "cell_type": "code",
      "execution_count": null,
      "id": "3632d61d",
      "metadata": {
        "id": "3632d61d"
      },
      "outputs": [],
      "source": [
        "producer = KafkaProducer(\n",
        "    bootstrap_servers=[':9092'],\n",
        "    value_serializer=lambda x: dumps(x).encode('utf-8'),\n",
        "    compression_type='gzip'\n",
        ")"
      ]
    },
    {
      "cell_type": "markdown",
      "source": [
        "#Asynchronous Sending:\n",
        "Instead of using sleep(), you can use asynchronous sending with callbacks:"
      ],
      "metadata": {
        "id": "vysgczX8abUF"
      },
      "id": "vysgczX8abUF"
    },
    {
      "cell_type": "code",
      "source": [
        "def on_send_success(record_metadata):\n",
        "    print(f\"Topic: {record_metadata.topic}, Partition: {record_metadata.partition}, Offset: {record_metadata.offset}\")\n",
        "\n",
        "def on_send_error(excp):\n",
        "    print('I am an errback', exc_info=excp)\n",
        "\n",
        "while True:\n",
        "    dict_stock = df.sample(1).to_dict(orient=\"records\")[0]\n",
        "    producer.send('demo_test', value=dict_stock).add_callback(on_send_success).add_errback(on_send_error)"
      ],
      "metadata": {
        "id": "Q18zi84Sae7q"
      },
      "id": "Q18zi84Sae7q",
      "execution_count": null,
      "outputs": []
    },
    {
      "cell_type": "markdown",
      "source": [
        "#Message Keys:\n",
        "You can add keys to your messages for partitioning:"
      ],
      "metadata": {
        "id": "KppvHzptaiEz"
      },
      "id": "KppvHzptaiEz"
    },
    {
      "cell_type": "code",
      "source": [
        "producer.send('demo_test', key=b'stock_data', value=dict_stock)"
      ],
      "metadata": {
        "id": "BTHSY8m3amGX"
      },
      "id": "BTHSY8m3amGX",
      "execution_count": null,
      "outputs": []
    },
    {
      "cell_type": "markdown",
      "source": [
        "#Producer Configurations:\n",
        " You can add more configurations to the producer for better control:"
      ],
      "metadata": {
        "id": "q1ySWNWwaq4e"
      },
      "id": "q1ySWNWwaq4e"
    },
    {
      "cell_type": "code",
      "source": [
        "producer = KafkaProducer(\n",
        "    bootstrap_servers=[':9092'],\n",
        "    value_serializer=lambda x: dumps(x).encode('utf-8'),\n",
        "    acks='all',\n",
        "    retries=3,\n",
        "    max_in_flight_requests_per_connection=1\n",
        ")"
      ],
      "metadata": {
        "id": "V-5CvJgHanuU"
      },
      "id": "V-5CvJgHanuU",
      "execution_count": null,
      "outputs": []
    }
  ],
  "metadata": {
    "kernelspec": {
      "display_name": "Python 3 (ipykernel)",
      "language": "python",
      "name": "python3"
    },
    "language_info": {
      "codemirror_mode": {
        "name": "ipython",
        "version": 3
      },
      "file_extension": ".py",
      "mimetype": "text/x-python",
      "name": "python",
      "nbconvert_exporter": "python",
      "pygments_lexer": "ipython3",
      "version": "3.10.0"
    },
    "colab": {
      "provenance": []
    }
  },
  "nbformat": 4,
  "nbformat_minor": 5
}