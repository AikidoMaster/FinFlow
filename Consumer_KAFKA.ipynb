{
  "cells": [
    {
      "cell_type": "markdown",
      "source": [
        "#CONSUMER(KAFKA)\n",
        "To use this notebook:\n",
        "\n",
        "1. Replace `'YOUR_ACCESS_KEY_ID'`, `'YOUR_SECRET_ACCESS_KEY'`, and `'YOUR_BUCKET_NAME'` with your actual AWS credentials and S3 bucket name[4].\n",
        "\n",
        "2. The `upload_json_to_s3` function takes a Python dictionary (`data`) and a file name, converts the data to JSON, and uploads it to the specified S3 path[4].\n",
        "\n",
        "3. The example uses a sample `stock_data` dictionary. You can modify this or create your own data structure to upload[4].\n",
        "\n",
        "4. The `list_s3_files` function demonstrates how to list the files in the specified S3 folder, which can be useful for verifying the upload[4].\n",
        "\n",
        "5. Make sure you have the required permissions to write to and list objects in the specified S3 bucket and folder[4].\n",
        "\n",
        "This notebook will:\n",
        "- Create an S3 client using your AWS credentials\n",
        "- Define a function to upload JSON data to a specific folder in S3\n",
        "- Upload a sample stock data JSON file to the \"finflow_draft/stock_market\" folder\n",
        "- List the contents of the \"finflow_draft/stock_market\" folder to verify the upload\n",
        "\n"
      ],
      "metadata": {
        "id": "4voG8gr-Rpy8"
      },
      "id": "4voG8gr-Rpy8"
    },
    {
      "cell_type": "code",
      "execution_count": null,
      "id": "b6675043",
      "metadata": {
        "id": "b6675043"
      },
      "outputs": [],
      "source": [
        "from kafka import KafkaConsumer\n",
        "from time import sleep\n",
        "from json import dumps,loads\n",
        "import json\n",
        "from s3fs import S3FileSystem"
      ]
    },
    {
      "cell_type": "code",
      "execution_count": null,
      "id": "9eeff3ef",
      "metadata": {
        "id": "9eeff3ef"
      },
      "outputs": [],
      "source": [
        "consumer = KafkaConsumer(\n",
        "    'demo_test',\n",
        "     bootstrap_servers=[':9092'], #add your IP here\n",
        "    value_deserializer=lambda x: loads(x.decode('utf-8')))"
      ]
    },
    {
      "cell_type": "code",
      "execution_count": null,
      "id": "8d60dc6c",
      "metadata": {
        "id": "8d60dc6c"
      },
      "outputs": [],
      "source": [
        "s3 = S3FileSystem()"
      ]
    },
    {
      "cell_type": "code",
      "execution_count": null,
      "id": "0f135e81",
      "metadata": {
        "id": "0f135e81"
      },
      "outputs": [],
      "source": [
        "for count, i in enumerate(consumer):\n",
        "    with s3.open(\"s3://finflow_draft/stock_market_{}.json\".format(count), 'w') as file:\n",
        "        json.dump(i.value, file)"
      ]
    },
    {
      "cell_type": "markdown",
      "source": [
        "#json and Executables"
      ],
      "metadata": {
        "id": "HWd_ihmvObNP"
      },
      "id": "HWd_ihmvObNP"
    },
    {
      "cell_type": "code",
      "execution_count": null,
      "id": "7b811cb6",
      "metadata": {
        "id": "7b811cb6"
      },
      "outputs": [],
      "source": [
        "'''\n",
        "import boto3\n",
        "import json\n",
        "import os\n",
        "\n",
        "# AWS S3 configuration\n",
        "aws_access_key_id = 'YOUR_ACCESS_KEY_ID'\n",
        "aws_secret_access_key = 'YOUR_SECRET_ACCESS_KEY'\n",
        "bucket_name = 'YOUR_BUCKET_NAME'\n",
        "\n",
        "# Create an S3 client\n",
        "s3 = boto3.client('s3',\n",
        "                  aws_access_key_id=aws_access_key_id,\n",
        "                  aws_secret_access_key=aws_secret_access_key)\n",
        "\n",
        "# Function to upload JSON data to S3\n",
        "def upload_json_to_s3(data, file_name):\n",
        "    # Convert data to JSON string\n",
        "    json_data = json.dumps(data)\n",
        "\n",
        "    # Specify the S3 object key (path in the bucket)\n",
        "    object_key = f'finflow_draft/stock_market/{file_name}'\n",
        "\n",
        "    try:\n",
        "        # Upload the JSON data to S3\n",
        "        s3.put_object(Bucket=bucket_name, Key=object_key, Body=json_data)\n",
        "        print(f\"Successfully uploaded {file_name} to S3 bucket {bucket_name}\")\n",
        "    except Exception as e:\n",
        "        print(f\"Error uploading to S3: {str(e)}\")\n",
        "\n",
        "# Example data to upload\n",
        "stock_data = {\n",
        "    \"company\": \"Example Corp\",\n",
        "    \"ticker\": \"EXMP\",\n",
        "    \"price\": 150.25,\n",
        "    \"volume\": 1000000\n",
        "}\n",
        "\n",
        "# Upload the data\n",
        "upload_json_to_s3(stock_data, \"example_stock_data.json\")\n",
        "\n",
        "# Function to list files in the S3 folder\n",
        "def list_s3_files():\n",
        "    try:\n",
        "        response = s3.list_objects_v2(Bucket=bucket_name, Prefix='finflow_draft/stock_market/')\n",
        "        if 'Contents' in response:\n",
        "            print(\"Files in finflow_draft/stock_market/:\")\n",
        "            for obj in response['Contents']:\n",
        "                print(f\"- {obj['Key']}\")\n",
        "        else:\n",
        "            print(\"No files found in finflow_draft/stock_market/\")\n",
        "    except Exception as e:\n",
        "        print(f\"Error listing S3 files: {str(e)}\")\n",
        "\n",
        "# List the files in the S3 folder\n",
        "list_s3_files()\n",
        "'''"
      ]
    },
    {
      "cell_type": "code",
      "source": [],
      "metadata": {
        "id": "usRr-w5pOaoz"
      },
      "id": "usRr-w5pOaoz",
      "execution_count": null,
      "outputs": []
    }
  ],
  "metadata": {
    "kernelspec": {
      "display_name": "Python 3 (ipykernel)",
      "language": "python",
      "name": "python3"
    },
    "language_info": {
      "codemirror_mode": {
        "name": "ipython",
        "version": 3
      },
      "file_extension": ".py",
      "mimetype": "text/x-python",
      "name": "python",
      "nbconvert_exporter": "python",
      "pygments_lexer": "ipython3",
      "version": "3.10.0"
    },
    "colab": {
      "provenance": []
    }
  },
  "nbformat": 4,
  "nbformat_minor": 5
}