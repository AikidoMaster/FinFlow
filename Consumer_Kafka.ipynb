{
  "cells": [
    {
      "cell_type": "markdown",
      "source": [
        "#Import Dependencies"
      ],
      "metadata": {
        "id": "UM4vB7hoXOjQ"
      },
      "id": "UM4vB7hoXOjQ"
    },
    {
      "cell_type": "code",
      "execution_count": null,
      "id": "b6675043",
      "metadata": {
        "id": "b6675043"
      },
      "outputs": [],
      "source": [
        "from kafka import KafkaConsumer\n",
        "from time import sleep\n",
        "from json import dumps,loads\n",
        "import json\n",
        "from s3fs import S3FileSystem"
      ]
    },
    {
      "cell_type": "markdown",
      "source": [
        "#Configure Kafka Consumer\n",
        "Here, a KafkaConsumer instance is created with the following configurations:\n",
        "* Topic: 'demo_test'\n",
        "* Bootstrap servers: [':9092'] (Note: You need to add your IP address here)\n",
        "* Value deserializer: A lambda function to decode and parse JSON messages"
      ],
      "metadata": {
        "id": "3iD0l4G6XpHQ"
      },
      "id": "3iD0l4G6XpHQ"
    },
    {
      "cell_type": "code",
      "execution_count": null,
      "id": "9eeff3ef",
      "metadata": {
        "id": "9eeff3ef"
      },
      "outputs": [],
      "source": [
        "consumer = KafkaConsumer(\n",
        "    'demo_test',\n",
        "     bootstrap_servers=[':9092'], #add your IP here\n",
        "    value_deserializer=lambda x: loads(x.decode('utf-8')))"
      ]
    },
    {
      "cell_type": "markdown",
      "source": [
        "# Print the value of each message received from the Kafka topic"
      ],
      "metadata": {
        "id": "_2TQJRbVYVb4"
      },
      "id": "_2TQJRbVYVb4"
    },
    {
      "cell_type": "code",
      "execution_count": null,
      "id": "eda5a608",
      "metadata": {
        "id": "eda5a608"
      },
      "outputs": [],
      "source": [
        "# for c in consumer:\n",
        "#     print(c.value)"
      ]
    },
    {
      "cell_type": "markdown",
      "source": [
        "#Initialize S3 File System"
      ],
      "metadata": {
        "id": "S1nWHuPXYYj4"
      },
      "id": "S1nWHuPXYYj4"
    },
    {
      "cell_type": "code",
      "execution_count": null,
      "id": "8d60dc6c",
      "metadata": {
        "id": "8d60dc6c"
      },
      "outputs": [],
      "source": [
        "s3 = S3FileSystem()"
      ]
    },
    {
      "cell_type": "markdown",
      "source": [
        "#Consume Messages and Write to S3\n",
        "This step sets up a loop to consume messages from the Kafka topic:\n",
        "* It uses enumerate to keep track of the message count\n",
        "* For each message, it opens a new file in the specified S3 bucket\n",
        "* The file name is formatted as \"stock_market_{count}.json\"\n",
        "* The message value is then written to the S3 file in JSON format"
      ],
      "metadata": {
        "id": "wRF7zPGeYeDJ"
      },
      "id": "wRF7zPGeYeDJ"
    },
    {
      "cell_type": "code",
      "execution_count": null,
      "id": "0f135e81",
      "metadata": {
        "id": "0f135e81"
      },
      "outputs": [],
      "source": [
        "for count, i in enumerate(consumer):\n",
        "    with s3.open(\"s3://finflow/stock_market_{}.json\".format(count), 'w') as file:\n",
        "        json.dump(i.value, file)"
      ]
    }
  ],
  "metadata": {
    "kernelspec": {
      "display_name": "Python 3 (ipykernel)",
      "language": "python",
      "name": "python3"
    },
    "language_info": {
      "codemirror_mode": {
        "name": "ipython",
        "version": 3
      },
      "file_extension": ".py",
      "mimetype": "text/x-python",
      "name": "python",
      "nbconvert_exporter": "python",
      "pygments_lexer": "ipython3",
      "version": "3.10.0"
    },
    "colab": {
      "provenance": []
    }
  },
  "nbformat": 4,
  "nbformat_minor": 5
}